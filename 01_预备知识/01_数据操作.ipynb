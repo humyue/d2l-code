{
 "cells": [
  {
   "cell_type": "code",
   "execution_count": 1,
   "id": "a8a7c39b-aac5-417e-8dbc-c106812878ea",
   "metadata": {},
   "outputs": [],
   "source": [
    "import torch"
   ]
  },
  {
   "cell_type": "markdown",
   "id": "f566431e-006b-4184-85f0-32d6170414c5",
   "metadata": {},
   "source": [
    "### 1.入门"
   ]
  },
  {
   "cell_type": "code",
   "execution_count": 2,
   "id": "b122701a-5dfa-454b-ab5a-cf1e86532696",
   "metadata": {},
   "outputs": [],
   "source": [
    "x = torch.arange(12)"
   ]
  },
  {
   "cell_type": "code",
   "execution_count": 4,
   "id": "0e70e058-62f8-4665-bed2-2f2fed7e87a7",
   "metadata": {},
   "outputs": [
    {
     "data": {
      "text/plain": [
       "tensor([ 0,  1,  2,  3,  4,  5,  6,  7,  8,  9, 10, 11])"
      ]
     },
     "execution_count": 4,
     "metadata": {},
     "output_type": "execute_result"
    }
   ],
   "source": [
    "x"
   ]
  },
  {
   "cell_type": "code",
   "execution_count": 9,
   "id": "03821c7a-f307-4d9d-a5cd-e7f5ebf3f229",
   "metadata": {},
   "outputs": [
    {
     "data": {
      "text/plain": [
       "(torch.int64, 12, torch.Size([12]), torch.Size([12]))"
      ]
     },
     "execution_count": 9,
     "metadata": {},
     "output_type": "execute_result"
    }
   ],
   "source": [
    "x.dtype,x.numel(),x.size(),x.shape"
   ]
  },
  {
   "cell_type": "code",
   "execution_count": 10,
   "id": "46ca566e-b7df-4561-ab5c-df0e1da2047f",
   "metadata": {},
   "outputs": [],
   "source": [
    "y = x.reshape(3,4)"
   ]
  },
  {
   "cell_type": "code",
   "execution_count": 11,
   "id": "6c930958-7bb8-4597-ab88-f8e264e630cc",
   "metadata": {},
   "outputs": [
    {
     "data": {
      "text/plain": [
       "tensor([[ 0,  1,  2,  3],\n",
       "        [ 4,  5,  6,  7],\n",
       "        [ 8,  9, 10, 11]])"
      ]
     },
     "execution_count": 11,
     "metadata": {},
     "output_type": "execute_result"
    }
   ],
   "source": [
    "y"
   ]
  },
  {
   "cell_type": "code",
   "execution_count": 13,
   "id": "3d72759e-c87b-4511-b13c-c7b73ab68d9e",
   "metadata": {},
   "outputs": [
    {
     "data": {
      "text/plain": [
       "(torch.Size([3, 4]), torch.Size([3, 4]))"
      ]
     },
     "execution_count": 13,
     "metadata": {},
     "output_type": "execute_result"
    }
   ],
   "source": [
    "y.size(),y.shape"
   ]
  },
  {
   "cell_type": "code",
   "execution_count": 15,
   "id": "1864027b-d1e0-41bd-b188-f0e2122add99",
   "metadata": {},
   "outputs": [
    {
     "data": {
      "text/plain": [
       "tensor([[1., 1., 1., 1.],\n",
       "        [1., 1., 1., 1.],\n",
       "        [1., 1., 1., 1.]])"
      ]
     },
     "execution_count": 15,
     "metadata": {},
     "output_type": "execute_result"
    }
   ],
   "source": [
    "torch.ones((3,4))"
   ]
  },
  {
   "cell_type": "code",
   "execution_count": 16,
   "id": "ce661edc-0080-4001-bfb9-7e5317edeb9e",
   "metadata": {},
   "outputs": [
    {
     "data": {
      "text/plain": [
       "tensor([[1., 1., 1., 1.],\n",
       "        [1., 1., 1., 1.],\n",
       "        [1., 1., 1., 1.]])"
      ]
     },
     "execution_count": 16,
     "metadata": {},
     "output_type": "execute_result"
    }
   ],
   "source": [
    "torch.ones(3,4)"
   ]
  },
  {
   "cell_type": "code",
   "execution_count": 18,
   "id": "7bb673b6-5d9f-4934-a099-d7088b938d23",
   "metadata": {},
   "outputs": [
    {
     "data": {
      "text/plain": [
       "tensor([[0., 0., 0., 0.],\n",
       "        [0., 0., 0., 0.],\n",
       "        [0., 0., 0., 0.]])"
      ]
     },
     "execution_count": 18,
     "metadata": {},
     "output_type": "execute_result"
    }
   ],
   "source": [
    "torch.zeros((3,4))"
   ]
  },
  {
   "cell_type": "code",
   "execution_count": 19,
   "id": "e73e569f-8dd8-4e28-b306-415ea6220247",
   "metadata": {},
   "outputs": [
    {
     "data": {
      "text/plain": [
       "tensor([[-0.4382, -1.2764,  1.1167, -0.4066],\n",
       "        [-0.1997, -1.8322, -0.8694, -2.3023],\n",
       "        [-0.6320,  0.4658, -0.7159, -1.4825]])"
      ]
     },
     "execution_count": 19,
     "metadata": {},
     "output_type": "execute_result"
    }
   ],
   "source": [
    "torch.randn((3,4))"
   ]
  },
  {
   "cell_type": "code",
   "execution_count": 20,
   "id": "e8314199-a7a0-4080-a5e7-0541501eded0",
   "metadata": {},
   "outputs": [
    {
     "data": {
      "text/plain": [
       "tensor([[2, 1, 4, 3],\n",
       "        [1, 2, 3, 4],\n",
       "        [4, 3, 2, 1]])"
      ]
     },
     "execution_count": 20,
     "metadata": {},
     "output_type": "execute_result"
    }
   ],
   "source": [
    "torch.tensor([[2, 1, 4, 3], [1, 2, 3, 4], [4, 3, 2, 1]])"
   ]
  },
  {
   "cell_type": "markdown",
   "id": "a269b3f1-e7d0-428e-b241-8b8f484fd0be",
   "metadata": {},
   "source": [
    "### 2.运算符"
   ]
  },
  {
   "cell_type": "markdown",
   "id": "5f098dda-1d6e-45d3-84fc-280e140fa9c3",
   "metadata": {},
   "source": [
    "#### 2.1 两个张量维度一致"
   ]
  },
  {
   "cell_type": "code",
   "execution_count": 21,
   "id": "7ab0337f-a8f6-439d-890a-e5491100b9a9",
   "metadata": {},
   "outputs": [],
   "source": [
    "x = torch.Tensor([1.0,2,4,8])"
   ]
  },
  {
   "cell_type": "code",
   "execution_count": 22,
   "id": "23379087-d1fd-4435-bc96-88d58017cc30",
   "metadata": {},
   "outputs": [],
   "source": [
    "y = torch.Tensor([2,2,2,2])"
   ]
  },
  {
   "cell_type": "code",
   "execution_count": 23,
   "id": "f5f3f777-1cfd-4c4d-bbda-3c5faee5fd48",
   "metadata": {},
   "outputs": [
    {
     "data": {
      "text/plain": [
       "tensor([ 3.,  4.,  6., 10.])"
      ]
     },
     "execution_count": 23,
     "metadata": {},
     "output_type": "execute_result"
    }
   ],
   "source": [
    "x+y"
   ]
  },
  {
   "cell_type": "code",
   "execution_count": 24,
   "id": "9452c37d-08b6-41f9-a103-d64d4be998d0",
   "metadata": {},
   "outputs": [
    {
     "data": {
      "text/plain": [
       "tensor([-1.,  0.,  2.,  6.])"
      ]
     },
     "execution_count": 24,
     "metadata": {},
     "output_type": "execute_result"
    }
   ],
   "source": [
    "x-y"
   ]
  },
  {
   "cell_type": "code",
   "execution_count": 25,
   "id": "40186f56-14db-4603-b521-3da06d06dd32",
   "metadata": {},
   "outputs": [
    {
     "data": {
      "text/plain": [
       "tensor([ 2.,  4.,  8., 16.])"
      ]
     },
     "execution_count": 25,
     "metadata": {},
     "output_type": "execute_result"
    }
   ],
   "source": [
    "x*y"
   ]
  },
  {
   "cell_type": "code",
   "execution_count": 26,
   "id": "1fae4d29-a243-4b2c-94b2-f109f7e44dbd",
   "metadata": {},
   "outputs": [
    {
     "data": {
      "text/plain": [
       "tensor([0.5000, 1.0000, 2.0000, 4.0000])"
      ]
     },
     "execution_count": 26,
     "metadata": {},
     "output_type": "execute_result"
    }
   ],
   "source": [
    "x/y"
   ]
  },
  {
   "cell_type": "code",
   "execution_count": 27,
   "id": "cb7606b4-cd0e-49b6-accd-08c6fe92e036",
   "metadata": {},
   "outputs": [
    {
     "data": {
      "text/plain": [
       "tensor([ 1.,  4., 16., 64.])"
      ]
     },
     "execution_count": 27,
     "metadata": {},
     "output_type": "execute_result"
    }
   ],
   "source": [
    "x**y"
   ]
  },
  {
   "cell_type": "code",
   "execution_count": 28,
   "id": "eec2267d-2ac7-41a6-98a9-ac754a211c7e",
   "metadata": {},
   "outputs": [
    {
     "data": {
      "text/plain": [
       "(torch.float32, torch.float32)"
      ]
     },
     "execution_count": 28,
     "metadata": {},
     "output_type": "execute_result"
    }
   ],
   "source": [
    "x.dtype,y.dtype"
   ]
  },
  {
   "cell_type": "code",
   "execution_count": 29,
   "id": "b60a2723-5a51-4526-b033-53687541d5d7",
   "metadata": {},
   "outputs": [
    {
     "data": {
      "text/plain": [
       "tensor([2.7183e+00, 7.3891e+00, 5.4598e+01, 2.9810e+03])"
      ]
     },
     "execution_count": 29,
     "metadata": {},
     "output_type": "execute_result"
    }
   ],
   "source": [
    "torch.exp(x)"
   ]
  },
  {
   "cell_type": "code",
   "execution_count": 34,
   "id": "68a0cae8-6082-47ef-ac4a-aadf031de542",
   "metadata": {},
   "outputs": [
    {
     "data": {
      "text/plain": [
       "tensor([1.])"
      ]
     },
     "execution_count": 34,
     "metadata": {},
     "output_type": "execute_result"
    }
   ],
   "source": [
    "torch.exp(torch.Tensor([0]))"
   ]
  },
  {
   "cell_type": "markdown",
   "id": "11b7df83-561b-4a50-bd43-0c5777eff3ac",
   "metadata": {},
   "source": [
    "#### 2.2 cat"
   ]
  },
  {
   "cell_type": "code",
   "execution_count": 35,
   "id": "4a641516-b20b-4ae7-9e8a-ef155af093d3",
   "metadata": {},
   "outputs": [],
   "source": [
    "X = torch.arange(12,dtype=torch.float32).reshape((3,4))"
   ]
  },
  {
   "cell_type": "code",
   "execution_count": 36,
   "id": "049c980d-9f15-4cf0-910f-8b357688f31c",
   "metadata": {},
   "outputs": [],
   "source": [
    "Y = torch.tensor([[2.0, 1, 4, 3], [1, 2, 3, 4], [4, 3, 2, 1]])"
   ]
  },
  {
   "cell_type": "code",
   "execution_count": 37,
   "id": "ea9173ff-a299-4a0b-8187-1c06f71a8733",
   "metadata": {},
   "outputs": [
    {
     "data": {
      "text/plain": [
       "(tensor([[ 0.,  1.,  2.,  3.],\n",
       "         [ 4.,  5.,  6.,  7.],\n",
       "         [ 8.,  9., 10., 11.],\n",
       "         [ 2.,  1.,  4.,  3.],\n",
       "         [ 1.,  2.,  3.,  4.],\n",
       "         [ 4.,  3.,  2.,  1.]]),\n",
       " tensor([[ 0.,  1.,  2.,  3.,  2.,  1.,  4.,  3.],\n",
       "         [ 4.,  5.,  6.,  7.,  1.,  2.,  3.,  4.],\n",
       "         [ 8.,  9., 10., 11.,  4.,  3.,  2.,  1.]]))"
      ]
     },
     "execution_count": 37,
     "metadata": {},
     "output_type": "execute_result"
    }
   ],
   "source": [
    "torch.cat((X, Y), dim=0), torch.cat((X, Y), dim=1)"
   ]
  },
  {
   "cell_type": "code",
   "execution_count": 38,
   "id": "f7cec993-13d7-4ff6-aa91-77ff36e28d00",
   "metadata": {},
   "outputs": [
    {
     "data": {
      "text/plain": [
       "tensor([[False,  True, False,  True],\n",
       "        [False, False, False, False],\n",
       "        [False, False, False, False]])"
      ]
     },
     "execution_count": 38,
     "metadata": {},
     "output_type": "execute_result"
    }
   ],
   "source": [
    "X==Y"
   ]
  },
  {
   "cell_type": "code",
   "execution_count": 40,
   "id": "91094f8f-683b-4761-a160-8647de593bbd",
   "metadata": {},
   "outputs": [
    {
     "data": {
      "text/plain": [
       "(tensor(66.), tensor(30.))"
      ]
     },
     "execution_count": 40,
     "metadata": {},
     "output_type": "execute_result"
    }
   ],
   "source": [
    "X.sum(),Y.sum()"
   ]
  },
  {
   "cell_type": "markdown",
   "id": "af39625c-653d-47a7-a9b3-80288422829b",
   "metadata": {},
   "source": [
    "### 3. 广播机制"
   ]
  },
  {
   "cell_type": "markdown",
   "id": "a623169d-ea9a-4539-8d97-b508c02f70a0",
   "metadata": {},
   "source": [
    "在某些情况下，即使形状不同，我们仍然可以通过调用 广播机制（broadcasting mechanism）来执行按元素操作。 这种机制的工作方式如下：\n",
    "- 通过适当复制元素来扩展一个或两个数组，以便在转换之后，两个张量具有相同的形状；\n",
    "- 对生成的数组执行按元素操作。"
   ]
  },
  {
   "cell_type": "markdown",
   "id": "1b289118-f4fd-4e3b-8c0f-e8dc9ec23f7f",
   "metadata": {},
   "source": [
    "在大多数情况下，我们将沿着数组中长度为1的轴进行广播，如下例子："
   ]
  },
  {
   "cell_type": "code",
   "execution_count": 42,
   "id": "340deda4-bdf6-468e-8259-afbafb37f200",
   "metadata": {},
   "outputs": [
    {
     "data": {
      "text/plain": [
       "(tensor([[0],\n",
       "         [1],\n",
       "         [2]]),\n",
       " tensor([[0, 1]]))"
      ]
     },
     "execution_count": 42,
     "metadata": {},
     "output_type": "execute_result"
    }
   ],
   "source": [
    "a = torch.arange(3).reshape((3, 1))\n",
    "b = torch.arange(2).reshape((1, 2))\n",
    "a, b"
   ]
  },
  {
   "cell_type": "code",
   "execution_count": 43,
   "id": "ce69bd24-6bf7-4ca4-993a-4144c12b1d51",
   "metadata": {},
   "outputs": [
    {
     "data": {
      "text/plain": [
       "tensor([[0, 1],\n",
       "        [1, 2],\n",
       "        [2, 3]])"
      ]
     },
     "execution_count": 43,
     "metadata": {},
     "output_type": "execute_result"
    }
   ],
   "source": [
    "a+b"
   ]
  },
  {
   "cell_type": "markdown",
   "id": "ff65d979-2fc7-4001-8dd6-6732483e7a90",
   "metadata": {},
   "source": [
    "### 4. 索引和切片"
   ]
  },
  {
   "cell_type": "code",
   "execution_count": 44,
   "id": "fdc376cb-5498-411f-a4a1-8c8fbbfb2bf5",
   "metadata": {},
   "outputs": [
    {
     "data": {
      "text/plain": [
       "tensor([[ 0.,  1.,  2.,  3.],\n",
       "        [ 4.,  5.,  6.,  7.],\n",
       "        [ 8.,  9., 10., 11.]])"
      ]
     },
     "execution_count": 44,
     "metadata": {},
     "output_type": "execute_result"
    }
   ],
   "source": [
    "X"
   ]
  },
  {
   "cell_type": "code",
   "execution_count": 45,
   "id": "d283f1b8-be3b-4c2f-aa06-475bccb39e5c",
   "metadata": {},
   "outputs": [
    {
     "data": {
      "text/plain": [
       "tensor([[2., 1., 4., 3.],\n",
       "        [1., 2., 3., 4.],\n",
       "        [4., 3., 2., 1.]])"
      ]
     },
     "execution_count": 45,
     "metadata": {},
     "output_type": "execute_result"
    }
   ],
   "source": [
    "Y"
   ]
  },
  {
   "cell_type": "code",
   "execution_count": 49,
   "id": "bb11dcd0-946c-477d-91b5-240cf6f32c4b",
   "metadata": {},
   "outputs": [
    {
     "data": {
      "text/plain": [
       "tensor([ 8.,  9., 10., 11.])"
      ]
     },
     "execution_count": 49,
     "metadata": {},
     "output_type": "execute_result"
    }
   ],
   "source": [
    "X[-1]"
   ]
  },
  {
   "cell_type": "code",
   "execution_count": 50,
   "id": "7ca130bb-41f6-4eef-9da0-d54522d25da8",
   "metadata": {},
   "outputs": [
    {
     "data": {
      "text/plain": [
       "tensor([[ 4.,  5.,  6.,  7.],\n",
       "        [ 8.,  9., 10., 11.]])"
      ]
     },
     "execution_count": 50,
     "metadata": {},
     "output_type": "execute_result"
    }
   ],
   "source": [
    "X[1:3]"
   ]
  },
  {
   "cell_type": "code",
   "execution_count": 51,
   "id": "94575ab9-1db0-4ffd-9848-9b2961e98407",
   "metadata": {},
   "outputs": [
    {
     "data": {
      "text/plain": [
       "tensor([[ 0.,  1.,  2.,  3.],\n",
       "        [ 4.,  5.,  9.,  7.],\n",
       "        [ 8.,  9., 10., 11.]])"
      ]
     },
     "execution_count": 51,
     "metadata": {},
     "output_type": "execute_result"
    }
   ],
   "source": [
    "X[1, 2] = 9\n",
    "X"
   ]
  },
  {
   "cell_type": "code",
   "execution_count": 52,
   "id": "4167da6c-42c8-4f9e-b89b-3e5730b3f005",
   "metadata": {},
   "outputs": [
    {
     "data": {
      "text/plain": [
       "tensor([[12., 12., 12., 12.],\n",
       "        [12., 12., 12., 12.],\n",
       "        [ 8.,  9., 10., 11.]])"
      ]
     },
     "execution_count": 52,
     "metadata": {},
     "output_type": "execute_result"
    }
   ],
   "source": [
    "X[0:2, :] = 12\n",
    "X"
   ]
  },
  {
   "cell_type": "markdown",
   "id": "62cf6818-53bb-4c07-8e95-a79658f2c445",
   "metadata": {},
   "source": [
    "### 5.节省内存"
   ]
  },
  {
   "cell_type": "code",
   "execution_count": 66,
   "id": "9c7892ca-f7a5-462e-9234-e8e34424f58c",
   "metadata": {},
   "outputs": [],
   "source": [
    "X = torch.arange(12,dtype=torch.float32).reshape((3,4))"
   ]
  },
  {
   "cell_type": "code",
   "execution_count": 67,
   "id": "d76a744b-f662-48d5-8232-28d3db7000f6",
   "metadata": {},
   "outputs": [
    {
     "data": {
      "text/plain": [
       "tensor([[ 0.,  1.,  2.,  3.],\n",
       "        [ 4.,  5.,  6.,  7.],\n",
       "        [ 8.,  9., 10., 11.]])"
      ]
     },
     "execution_count": 67,
     "metadata": {},
     "output_type": "execute_result"
    }
   ],
   "source": [
    "X"
   ]
  },
  {
   "cell_type": "code",
   "execution_count": 68,
   "id": "0123b8ed-6212-47d3-b82c-edf609720b35",
   "metadata": {},
   "outputs": [],
   "source": [
    "Y = torch.tensor([[2.0, 1, 4, 3], [1, 2, 3, 4], [4, 3, 2, 1]])"
   ]
  },
  {
   "cell_type": "code",
   "execution_count": 69,
   "id": "9c544ca2-d054-46aa-a85a-d8b61cf2139f",
   "metadata": {},
   "outputs": [
    {
     "data": {
      "text/plain": [
       "tensor([[2., 1., 4., 3.],\n",
       "        [1., 2., 3., 4.],\n",
       "        [4., 3., 2., 1.]])"
      ]
     },
     "execution_count": 69,
     "metadata": {},
     "output_type": "execute_result"
    }
   ],
   "source": [
    "Y"
   ]
  },
  {
   "cell_type": "code",
   "execution_count": 70,
   "id": "6a3199dd-446a-42d7-abde-5518580bc58b",
   "metadata": {},
   "outputs": [
    {
     "data": {
      "text/plain": [
       "3182838574752"
      ]
     },
     "execution_count": 70,
     "metadata": {},
     "output_type": "execute_result"
    }
   ],
   "source": [
    "id(Y)"
   ]
  },
  {
   "cell_type": "code",
   "execution_count": 71,
   "id": "fb9aacc2-0cef-4392-a468-7480a382c084",
   "metadata": {},
   "outputs": [],
   "source": [
    "Y = Y+X"
   ]
  },
  {
   "cell_type": "code",
   "execution_count": 72,
   "id": "ab2a1fed-055c-4247-ada5-8dc360181c0f",
   "metadata": {},
   "outputs": [
    {
     "data": {
      "text/plain": [
       "tensor([[ 2.,  2.,  6.,  6.],\n",
       "        [ 5.,  7.,  9., 11.],\n",
       "        [12., 12., 12., 12.]])"
      ]
     },
     "execution_count": 72,
     "metadata": {},
     "output_type": "execute_result"
    }
   ],
   "source": [
    "Y"
   ]
  },
  {
   "cell_type": "code",
   "execution_count": 73,
   "id": "56dfb2fb-28b3-4f73-98b4-c18257525c9b",
   "metadata": {},
   "outputs": [
    {
     "data": {
      "text/plain": [
       "3182838573456"
      ]
     },
     "execution_count": 73,
     "metadata": {},
     "output_type": "execute_result"
    }
   ],
   "source": [
    "id(Y)"
   ]
  },
  {
   "cell_type": "code",
   "execution_count": 74,
   "id": "4f767538-8ad8-411a-a8c8-d5361ad0df03",
   "metadata": {},
   "outputs": [],
   "source": [
    "Z = torch.zeros_like(Y)"
   ]
  },
  {
   "cell_type": "code",
   "execution_count": 75,
   "id": "fec52b60-826b-41fe-8577-61116cf5f75f",
   "metadata": {},
   "outputs": [
    {
     "data": {
      "text/plain": [
       "tensor([[0., 0., 0., 0.],\n",
       "        [0., 0., 0., 0.],\n",
       "        [0., 0., 0., 0.]])"
      ]
     },
     "execution_count": 75,
     "metadata": {},
     "output_type": "execute_result"
    }
   ],
   "source": [
    "Z"
   ]
  },
  {
   "cell_type": "code",
   "execution_count": 76,
   "id": "50c8ce73-6173-44df-b8ad-d44e4e847bca",
   "metadata": {},
   "outputs": [
    {
     "data": {
      "text/plain": [
       "3182843685408"
      ]
     },
     "execution_count": 76,
     "metadata": {},
     "output_type": "execute_result"
    }
   ],
   "source": [
    "id(Z)"
   ]
  },
  {
   "cell_type": "code",
   "execution_count": 77,
   "id": "47dee36c-98be-4026-aabf-d90e8b1936a8",
   "metadata": {},
   "outputs": [],
   "source": [
    "Z[:] = X+Y"
   ]
  },
  {
   "cell_type": "code",
   "execution_count": 78,
   "id": "5634f102-c0b9-4d7e-ad79-ecb380111808",
   "metadata": {},
   "outputs": [
    {
     "data": {
      "text/plain": [
       "3182843685408"
      ]
     },
     "execution_count": 78,
     "metadata": {},
     "output_type": "execute_result"
    }
   ],
   "source": [
    "id(Z)"
   ]
  },
  {
   "cell_type": "code",
   "execution_count": 79,
   "id": "05c5e555-3d29-4d57-bf69-5901343a11e7",
   "metadata": {},
   "outputs": [
    {
     "data": {
      "text/plain": [
       "tensor([[ 2.,  3.,  8.,  9.],\n",
       "        [ 9., 12., 15., 18.],\n",
       "        [20., 21., 22., 23.]])"
      ]
     },
     "execution_count": 79,
     "metadata": {},
     "output_type": "execute_result"
    }
   ],
   "source": [
    "Z"
   ]
  },
  {
   "cell_type": "code",
   "execution_count": 81,
   "id": "d0aec038-2864-4bb8-b2fc-de47d74c0737",
   "metadata": {},
   "outputs": [
    {
     "data": {
      "text/plain": [
       "tensor([[ 0.,  1.,  2.,  3.],\n",
       "        [ 4.,  5.,  6.,  7.],\n",
       "        [ 8.,  9., 10., 11.]])"
      ]
     },
     "execution_count": 81,
     "metadata": {},
     "output_type": "execute_result"
    }
   ],
   "source": [
    "X"
   ]
  },
  {
   "cell_type": "code",
   "execution_count": 82,
   "id": "8cb40b15-f375-442e-997d-667f92b4dd5f",
   "metadata": {},
   "outputs": [
    {
     "data": {
      "text/plain": [
       "3182838835240"
      ]
     },
     "execution_count": 82,
     "metadata": {},
     "output_type": "execute_result"
    }
   ],
   "source": [
    "id(X)"
   ]
  },
  {
   "cell_type": "code",
   "execution_count": 83,
   "id": "3ae9e5ae-30b4-48aa-89f0-ca763b17c05d",
   "metadata": {},
   "outputs": [],
   "source": [
    "X+=Y"
   ]
  },
  {
   "cell_type": "code",
   "execution_count": 84,
   "id": "334bbda0-2eba-4f12-a67d-8a5399a51565",
   "metadata": {},
   "outputs": [
    {
     "data": {
      "text/plain": [
       "tensor([[ 2.,  3.,  8.,  9.],\n",
       "        [ 9., 12., 15., 18.],\n",
       "        [20., 21., 22., 23.]])"
      ]
     },
     "execution_count": 84,
     "metadata": {},
     "output_type": "execute_result"
    }
   ],
   "source": [
    "X"
   ]
  },
  {
   "cell_type": "code",
   "execution_count": 85,
   "id": "fb134944-bfd4-4b95-a231-5f1caeafbdf2",
   "metadata": {},
   "outputs": [
    {
     "data": {
      "text/plain": [
       "3182838835240"
      ]
     },
     "execution_count": 85,
     "metadata": {},
     "output_type": "execute_result"
    }
   ],
   "source": [
    "id(X)"
   ]
  },
  {
   "cell_type": "markdown",
   "id": "9afe8080-91a8-43d1-b01a-7090429aced2",
   "metadata": {},
   "source": [
    "----------------------------------------------------------\n",
    "实验"
   ]
  },
  {
   "cell_type": "code",
   "execution_count": 86,
   "id": "869a72f6-1934-4818-b2e2-68cf1dd48a0d",
   "metadata": {},
   "outputs": [],
   "source": [
    "X1 = torch.arange(12,dtype=torch.float32).reshape((3,4))\n",
    "Y1 = torch.tensor([[2.0, 1, 4, 3], [1, 2, 3, 4], [4, 3, 2, 1]])"
   ]
  },
  {
   "cell_type": "code",
   "execution_count": 87,
   "id": "f50ad969-f67c-4a53-a8d7-5a16793e07bb",
   "metadata": {},
   "outputs": [
    {
     "data": {
      "text/plain": [
       "3182843625408"
      ]
     },
     "execution_count": 87,
     "metadata": {},
     "output_type": "execute_result"
    }
   ],
   "source": [
    "id(X1)"
   ]
  },
  {
   "cell_type": "code",
   "execution_count": 88,
   "id": "a634e27d-5957-4bb8-957d-0b03818c4e02",
   "metadata": {},
   "outputs": [],
   "source": [
    "X1 = X1+Y1"
   ]
  },
  {
   "cell_type": "code",
   "execution_count": 89,
   "id": "3dbd4b87-d588-43af-8ab8-62fe6ae36beb",
   "metadata": {},
   "outputs": [
    {
     "data": {
      "text/plain": [
       "3182853708032"
      ]
     },
     "execution_count": 89,
     "metadata": {},
     "output_type": "execute_result"
    }
   ],
   "source": [
    "id(X1)"
   ]
  },
  {
   "cell_type": "code",
   "execution_count": 90,
   "id": "54f6eb83-d540-43f5-ba62-c8021fee35e7",
   "metadata": {},
   "outputs": [],
   "source": [
    "X2 = torch.arange(12,dtype=torch.float32).reshape((3,4))\n",
    "Y2 = torch.tensor([[2.0, 1, 4, 3], [1, 2, 3, 4], [4, 3, 2, 1]])"
   ]
  },
  {
   "cell_type": "code",
   "execution_count": 91,
   "id": "e3772996-a4cc-4fc5-b82e-69449a8d0509",
   "metadata": {},
   "outputs": [
    {
     "data": {
      "text/plain": [
       "3182853708608"
      ]
     },
     "execution_count": 91,
     "metadata": {},
     "output_type": "execute_result"
    }
   ],
   "source": [
    "id(X2)"
   ]
  },
  {
   "cell_type": "code",
   "execution_count": 93,
   "id": "c820916e-6c90-430f-9922-c1f39d793a6d",
   "metadata": {},
   "outputs": [],
   "source": [
    "X2+=Y2"
   ]
  },
  {
   "cell_type": "code",
   "execution_count": 94,
   "id": "f0905fd2-8bf8-4413-8e11-2f65895ea3c3",
   "metadata": {},
   "outputs": [
    {
     "data": {
      "text/plain": [
       "3182853708608"
      ]
     },
     "execution_count": 94,
     "metadata": {},
     "output_type": "execute_result"
    }
   ],
   "source": [
    "id(X2)"
   ]
  },
  {
   "cell_type": "markdown",
   "id": "f24eb01a-78f1-4ec4-9cb2-01896f76b00f",
   "metadata": {},
   "source": [
    "### 6.类型转换"
   ]
  },
  {
   "cell_type": "code",
   "execution_count": 95,
   "id": "dc80e97c-bfca-4c74-8527-740c9875deeb",
   "metadata": {},
   "outputs": [
    {
     "data": {
      "text/plain": [
       "(numpy.ndarray, torch.Tensor)"
      ]
     },
     "execution_count": 95,
     "metadata": {},
     "output_type": "execute_result"
    }
   ],
   "source": [
    "A = X.numpy()\n",
    "B = torch.tensor(A)\n",
    "type(A), type(B)"
   ]
  },
  {
   "cell_type": "code",
   "execution_count": 96,
   "id": "a915c0b0-1be2-43db-b14a-90eaf595f319",
   "metadata": {},
   "outputs": [
    {
     "data": {
      "text/plain": [
       "array([[ 2.,  3.,  8.,  9.],\n",
       "       [ 9., 12., 15., 18.],\n",
       "       [20., 21., 22., 23.]], dtype=float32)"
      ]
     },
     "execution_count": 96,
     "metadata": {},
     "output_type": "execute_result"
    }
   ],
   "source": [
    "A"
   ]
  },
  {
   "cell_type": "code",
   "execution_count": 97,
   "id": "45993999-941e-4777-83e2-829eae0ad156",
   "metadata": {},
   "outputs": [
    {
     "data": {
      "text/plain": [
       "tensor([[ 2.,  3.,  8.,  9.],\n",
       "        [ 9., 12., 15., 18.],\n",
       "        [20., 21., 22., 23.]])"
      ]
     },
     "execution_count": 97,
     "metadata": {},
     "output_type": "execute_result"
    }
   ],
   "source": [
    "B"
   ]
  },
  {
   "cell_type": "markdown",
   "id": "d1e2d917-c259-4b5a-b0e3-f17cd4ee533f",
   "metadata": {},
   "source": [
    "要将大小为1的张量转换为Python标量，我们可以调用item函数或Python的内置函数。"
   ]
  },
  {
   "cell_type": "code",
   "execution_count": 98,
   "id": "77021a62-458d-4946-807e-e77ea852a571",
   "metadata": {},
   "outputs": [
    {
     "data": {
      "text/plain": [
       "(tensor([3.5000]), 3.5, 3.5, 3)"
      ]
     },
     "execution_count": 98,
     "metadata": {},
     "output_type": "execute_result"
    }
   ],
   "source": [
    "a = torch.tensor([3.5])\n",
    "a, a.item(), float(a), int(a)"
   ]
  },
  {
   "cell_type": "markdown",
   "id": "59ef4340-d49d-47bc-80f4-69d1a571ee4c",
   "metadata": {},
   "source": [
    "### 练习\n",
    "1. 运行本节中的代码。将本节中的条件语句X == Y更改为X < Y或X > Y，然后看看你可以得到什么样的张量。\n",
    "2. 用其他形状（例如三维张量）替换广播机制中按元素操作的两个张量。结果是否与预期相同？"
   ]
  },
  {
   "cell_type": "markdown",
   "id": "99d459f6-5e99-4c45-96a8-71572079da86",
   "metadata": {},
   "source": [
    "#### 1. 运行本节中的代码。将本节中的条件语句X == Y更改为X < Y或X > Y，然后看看你可以得到什么样的张量。"
   ]
  },
  {
   "cell_type": "code",
   "execution_count": 108,
   "id": "790b2c3e-4297-4e26-bda5-017d79360e1e",
   "metadata": {},
   "outputs": [
    {
     "data": {
      "text/plain": [
       "tensor([[ 0.,  1.,  2.,  3.],\n",
       "        [ 4.,  5.,  6.,  7.],\n",
       "        [ 8.,  9., 10., 11.]])"
      ]
     },
     "execution_count": 108,
     "metadata": {},
     "output_type": "execute_result"
    }
   ],
   "source": [
    "X = torch.arange(12,dtype=torch.float32).reshape(3,4)\n",
    "X"
   ]
  },
  {
   "cell_type": "code",
   "execution_count": 109,
   "id": "104e22b3-5e98-45c5-9f43-d043000406ac",
   "metadata": {},
   "outputs": [],
   "source": [
    "Y = torch.Tensor([[2.0, 1, 4, 3], [1, 2, 3, 4], [4, 3, 2, 1]])"
   ]
  },
  {
   "cell_type": "code",
   "execution_count": 112,
   "id": "5a730824-11fb-46ed-95a2-3d3a561bdf19",
   "metadata": {},
   "outputs": [
    {
     "data": {
      "text/plain": [
       "tensor([[False,  True, False,  True],\n",
       "        [False, False, False, False],\n",
       "        [False, False, False, False]])"
      ]
     },
     "execution_count": 112,
     "metadata": {},
     "output_type": "execute_result"
    }
   ],
   "source": [
    "X==Y"
   ]
  },
  {
   "cell_type": "code",
   "execution_count": 113,
   "id": "2e760794-766c-495b-99b7-8267811750ae",
   "metadata": {},
   "outputs": [
    {
     "data": {
      "text/plain": [
       "tensor([[False, False, False, False],\n",
       "        [ True,  True,  True,  True],\n",
       "        [ True,  True,  True,  True]])"
      ]
     },
     "execution_count": 113,
     "metadata": {},
     "output_type": "execute_result"
    }
   ],
   "source": [
    "X>Y"
   ]
  },
  {
   "cell_type": "code",
   "execution_count": 114,
   "id": "7c5b7588-95de-46d2-a31b-e665147d6a06",
   "metadata": {},
   "outputs": [
    {
     "data": {
      "text/plain": [
       "tensor([[ True, False,  True, False],\n",
       "        [False, False, False, False],\n",
       "        [False, False, False, False]])"
      ]
     },
     "execution_count": 114,
     "metadata": {},
     "output_type": "execute_result"
    }
   ],
   "source": [
    "X<Y"
   ]
  },
  {
   "cell_type": "markdown",
   "id": "0a8218f3-dcf2-4599-8550-2aa7c0db78db",
   "metadata": {
    "tags": []
   },
   "source": [
    "#### 2.用其他形状（例如三维张量）替换广播机制中按元素操作的两个张量。结果是否与预期相同？"
   ]
  },
  {
   "cell_type": "code",
   "execution_count": 121,
   "id": "db0ada09-25d1-494a-8f0d-d0c50fb00786",
   "metadata": {},
   "outputs": [],
   "source": [
    "x = torch.randn((1,2,3))"
   ]
  },
  {
   "cell_type": "code",
   "execution_count": 122,
   "id": "67ca7658-3c8e-474a-829c-33a18c1ccda3",
   "metadata": {},
   "outputs": [
    {
     "data": {
      "text/plain": [
       "tensor([[[-0.1727, -1.5709, -0.1156],\n",
       "         [ 0.1486,  0.2829, -0.4702]]])"
      ]
     },
     "execution_count": 122,
     "metadata": {},
     "output_type": "execute_result"
    }
   ],
   "source": [
    "x"
   ]
  },
  {
   "cell_type": "code",
   "execution_count": 123,
   "id": "a834a61d-117c-4acb-8154-8b7b83488df0",
   "metadata": {},
   "outputs": [],
   "source": [
    "y = torch.randn((2,2,1))"
   ]
  },
  {
   "cell_type": "code",
   "execution_count": 124,
   "id": "31c7b581-7e2a-4c44-aaaa-729799f316b3",
   "metadata": {},
   "outputs": [
    {
     "data": {
      "text/plain": [
       "tensor([[[-1.0123],\n",
       "         [ 0.1108]],\n",
       "\n",
       "        [[-0.9509],\n",
       "         [-1.4275]]])"
      ]
     },
     "execution_count": 124,
     "metadata": {},
     "output_type": "execute_result"
    }
   ],
   "source": [
    "y"
   ]
  },
  {
   "cell_type": "code",
   "execution_count": 130,
   "id": "e57ad8bf-8b58-4ddc-a2d6-774624b3928e",
   "metadata": {},
   "outputs": [
    {
     "data": {
      "text/plain": [
       "tensor([[[-1.1850, -2.5832, -1.1279],\n",
       "         [ 0.2595,  0.3938, -0.3593]],\n",
       "\n",
       "        [[-1.1235, -2.5218, -1.0665],\n",
       "         [-1.2788, -1.1446, -1.8976]]])"
      ]
     },
     "execution_count": 130,
     "metadata": {},
     "output_type": "execute_result"
    }
   ],
   "source": [
    "z = x+y\n",
    "z"
   ]
  },
  {
   "cell_type": "code",
   "execution_count": 127,
   "id": "d234f25d-f928-4951-9bb4-4f8a918c9a9a",
   "metadata": {},
   "outputs": [
    {
     "data": {
      "text/plain": [
       "torch.Size([2, 2, 3])"
      ]
     },
     "execution_count": 127,
     "metadata": {},
     "output_type": "execute_result"
    }
   ],
   "source": [
    "z.shape"
   ]
  },
  {
   "cell_type": "code",
   "execution_count": null,
   "id": "4a20d640-6606-48f2-8682-a3168e627e14",
   "metadata": {},
   "outputs": [],
   "source": []
  }
 ],
 "metadata": {
  "kernelspec": {
   "display_name": "Python 3",
   "language": "python",
   "name": "python3"
  },
  "language_info": {
   "codemirror_mode": {
    "name": "ipython",
    "version": 3
   },
   "file_extension": ".py",
   "mimetype": "text/x-python",
   "name": "python",
   "nbconvert_exporter": "python",
   "pygments_lexer": "ipython3",
   "version": "3.6.2"
  }
 },
 "nbformat": 4,
 "nbformat_minor": 5
}
