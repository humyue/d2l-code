{
 "cells": [
  {
   "cell_type": "code",
   "execution_count": 1,
   "id": "a0fe5e70-c14b-4d4d-bd3b-f8caef03fa97",
   "metadata": {},
   "outputs": [],
   "source": [
    "%matplotlib inline\n",
    "import random\n",
    "import numpy as np\n",
    "import torch\n",
    "from d2l import torch as d2l\n",
    "from torch.utils import data"
   ]
  },
  {
   "cell_type": "markdown",
   "id": "3211eb13-987d-442c-b21e-bcdaa83dd19b",
   "metadata": {},
   "source": [
    "### 1.生成数据集"
   ]
  },
  {
   "cell_type": "code",
   "execution_count": 2,
   "id": "52f4f7cf-77ae-4e0c-b800-fa102a79bd3f",
   "metadata": {},
   "outputs": [],
   "source": [
    "true_w = torch.tensor([2, -3.4])\n",
    "true_b = 4.2\n",
    "features, labels = d2l.synthetic_data(true_w, true_b, 1000)"
   ]
  },
  {
   "cell_type": "code",
   "execution_count": 3,
   "id": "27fda446-ab7a-4042-8899-1cc4015ad578",
   "metadata": {},
   "outputs": [
    {
     "name": "stdout",
     "output_type": "stream",
     "text": [
      "features: tensor([-1.7333,  1.2832]) \n",
      "label: tensor([-3.6312])\n"
     ]
    }
   ],
   "source": [
    "print('features:', features[0],'\\nlabel:', labels[0])"
   ]
  },
  {
   "cell_type": "markdown",
   "id": "495e20a9-45fa-42d5-b682-fc4194c92b2a",
   "metadata": {},
   "source": [
    "### 2.读取数据"
   ]
  },
  {
   "cell_type": "code",
   "execution_count": 4,
   "id": "f31f0487-0b47-4ae3-84dd-f06e592ea6aa",
   "metadata": {},
   "outputs": [],
   "source": [
    "def load_array(data_arrays, batch_size, is_train=True):  #@save\n",
    "    \"\"\"构造一个PyTorch数据迭代器\"\"\"\n",
    "    dataset = data.TensorDataset(*data_arrays)\n",
    "    return data.DataLoader(dataset, batch_size, shuffle=is_train)"
   ]
  },
  {
   "cell_type": "code",
   "execution_count": 5,
   "id": "b34c7ff4-6991-47f4-943d-f5efb0d98152",
   "metadata": {},
   "outputs": [],
   "source": [
    "batch_size = 10\n",
    "data_iter = load_array((features, labels), batch_size)"
   ]
  },
  {
   "cell_type": "code",
   "execution_count": 6,
   "id": "8091fd06-cfe0-49bb-9665-04db35a5fee3",
   "metadata": {},
   "outputs": [
    {
     "data": {
      "text/plain": [
       "[tensor([[-0.5225,  0.8202],\n",
       "         [ 0.1389,  0.5075],\n",
       "         [ 1.3835,  0.5925],\n",
       "         [-1.3603,  1.0042],\n",
       "         [ 0.3127,  0.9037],\n",
       "         [ 1.1025,  1.2548],\n",
       "         [ 1.5232, -0.0258],\n",
       "         [ 0.1018, -1.7066],\n",
       "         [-0.3853, -0.0718],\n",
       "         [ 0.7464, -2.2243]]),\n",
       " tensor([[ 0.3556],\n",
       "         [ 2.7485],\n",
       "         [ 4.9569],\n",
       "         [-1.9277],\n",
       "         [ 1.7317],\n",
       "         [ 2.1288],\n",
       "         [ 7.3594],\n",
       "         [10.2164],\n",
       "         [ 3.6504],\n",
       "         [13.2669]])]"
      ]
     },
     "execution_count": 6,
     "metadata": {},
     "output_type": "execute_result"
    }
   ],
   "source": [
    "next(iter(data_iter))"
   ]
  },
  {
   "cell_type": "markdown",
   "id": "6c4c29a4-0429-49a4-9c53-7101048c6629",
   "metadata": {},
   "source": [
    "### 3.定义网络"
   ]
  },
  {
   "cell_type": "code",
   "execution_count": 7,
   "id": "d0fa9751-a038-4f11-b52a-a8f75238b37b",
   "metadata": {},
   "outputs": [],
   "source": [
    "from torch import nn\n",
    "net = nn.Sequential(nn.Linear(2,1))"
   ]
  },
  {
   "cell_type": "markdown",
   "id": "ba455d54-8204-4254-b2ac-1998a8b6aa17",
   "metadata": {},
   "source": [
    "### 4.初始化参数"
   ]
  },
  {
   "cell_type": "code",
   "execution_count": 8,
   "id": "55a8d791-eea9-468c-8a4f-54b30a900d9a",
   "metadata": {},
   "outputs": [
    {
     "data": {
      "text/plain": [
       "tensor([0.])"
      ]
     },
     "execution_count": 8,
     "metadata": {},
     "output_type": "execute_result"
    }
   ],
   "source": [
    "net[0].weight.data.normal_(0, 0.01)\n",
    "net[0].bias.data.fill_(0)"
   ]
  },
  {
   "cell_type": "markdown",
   "id": "71265cef-c1cc-41ad-b686-b6b29b1199a0",
   "metadata": {},
   "source": [
    "### 5.定义损失函数"
   ]
  },
  {
   "cell_type": "code",
   "execution_count": 9,
   "id": "6dc1016e-1922-4152-a796-3651c469d5f6",
   "metadata": {},
   "outputs": [],
   "source": [
    "loss = nn.MSELoss()"
   ]
  },
  {
   "cell_type": "markdown",
   "id": "21e4bdc2-5a65-438b-8b4f-dfc5dcc64110",
   "metadata": {},
   "source": [
    "### 6.定义优化算法"
   ]
  },
  {
   "cell_type": "code",
   "execution_count": 10,
   "id": "01eee211-d9d1-4cbf-a3e0-b1a275dca4d1",
   "metadata": {},
   "outputs": [],
   "source": [
    "trainer = torch.optim.SGD(net.parameters(), lr=0.03)"
   ]
  },
  {
   "cell_type": "markdown",
   "id": "fdd693b4-a987-43f1-bcd8-e8ade6c1ae07",
   "metadata": {},
   "source": [
    "### 7. 训练"
   ]
  },
  {
   "cell_type": "code",
   "execution_count": 12,
   "id": "6dd81c83-56e1-4bfe-a096-75591abcab04",
   "metadata": {},
   "outputs": [
    {
     "name": "stdout",
     "output_type": "stream",
     "text": [
      "epoch 1, loss 0.000103\n",
      "epoch 2, loss 0.000103\n",
      "epoch 3, loss 0.000103\n",
      "epoch 4, loss 0.000103\n",
      "epoch 5, loss 0.000103\n",
      "epoch 6, loss 0.000103\n",
      "epoch 7, loss 0.000103\n",
      "epoch 8, loss 0.000103\n",
      "epoch 9, loss 0.000103\n",
      "epoch 10, loss 0.000104\n"
     ]
    }
   ],
   "source": [
    "num_epochs = 10\n",
    "for epoch in range(num_epochs):\n",
    "    for X, y in data_iter:\n",
    "        l = loss(net(X) ,y)\n",
    "        trainer.zero_grad()\n",
    "        l.backward()\n",
    "        trainer.step()\n",
    "    l = loss(net(features), labels)\n",
    "    print(f'epoch {epoch + 1}, loss {l:f}')"
   ]
  },
  {
   "cell_type": "code",
   "execution_count": 13,
   "id": "75b95bc4-adef-4a54-8144-0259a7686604",
   "metadata": {},
   "outputs": [
    {
     "name": "stdout",
     "output_type": "stream",
     "text": [
      "w的估计误差： tensor([0.0008, 0.0008])\n",
      "b的估计误差： tensor([0.0008])\n"
     ]
    }
   ],
   "source": [
    "w = net[0].weight.data\n",
    "print('w的估计误差：', true_w - w.reshape(true_w.shape))\n",
    "b = net[0].bias.data\n",
    "print('b的估计误差：', true_b - b)"
   ]
  },
  {
   "cell_type": "code",
   "execution_count": null,
   "id": "39b0207c-aabd-4128-a9a1-54e89a79aeac",
   "metadata": {},
   "outputs": [],
   "source": []
  }
 ],
 "metadata": {
  "kernelspec": {
   "display_name": "Python 3",
   "language": "python",
   "name": "python3"
  },
  "language_info": {
   "codemirror_mode": {
    "name": "ipython",
    "version": 3
   },
   "file_extension": ".py",
   "mimetype": "text/x-python",
   "name": "python",
   "nbconvert_exporter": "python",
   "pygments_lexer": "ipython3",
   "version": "3.6.2"
  }
 },
 "nbformat": 4,
 "nbformat_minor": 5
}
