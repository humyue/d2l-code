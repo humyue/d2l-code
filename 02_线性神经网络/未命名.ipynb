{
 "cells": [
  {
   "cell_type": "code",
   "execution_count": 23,
   "id": "ea04eb27-3e4b-4372-a9ac-b5d5c248ae00",
   "metadata": {},
   "outputs": [],
   "source": [
    "from bs4 import BeautifulSoup\n",
    "import re"
   ]
  },
  {
   "cell_type": "code",
   "execution_count": 24,
   "id": "eb2c4ee4-76b8-4198-b1d1-3c1cfd54ffd8",
   "metadata": {},
   "outputs": [],
   "source": [
    "html= \"<html><body><table><tbody><tr><td>16</td><td>01</td><td>尧军辉</td><td>居民身份 证</td><td>3625021 9790921 5050</td><td>1979-09 21</td><td>男性</td><td>通信工程技 术人员</td><td></td><td></td><td></td><td></td><td></td></tr><tr><td>17</td><td>01</td><td>吴南海</td><td>居民身份 证</td><td>3625011 9680413 7817</td><td>1968-04- 13</td><td>男性</td><td>通信工程技 术人员</td><td></td><td></td><td></td><td></td><td></td></tr><tr><td>18</td><td>01</td><td>张赞</td><td>居民身份 证</td><td>4211231 9870302 3213</td><td>1987-03- 02</td><td>男性</td><td>通信工程技 术人员</td><td></td><td></td><td></td><td></td><td></td></tr><tr><td>19 签单地点： 核保：</td><td>01 王伟</td><td>温金良 全国统一客户服务电话：</td><td>居民身份 证</td><td>3625261 9740216 3213 武汉东湖高新新技术开发区东信路光谷创业街10（原3）栋A座 95519 或</td><td>1974-02- 16 出单员：王晓宇</td><td>男性 40086-95519</td><td>通信工程技 术人员</td><td></td><td>业务人员：杨婧</td><td></td><td></td><td></td></tr><tr><td colspan=\\\"11\\\">1单元01室 签单日期： 2024年4月11日 销售机构： 东湖新技术开发区支公司重客条线业务一部 销售渠道： 重客</td><td>保险人盖章 .e 授权签字</td><td>官方网站：www.chinalife-p.com.cn</td><td>保险合商专用章 （电子）</td></tr></tbody></table></body></html>\""
   ]
  },
  {
   "cell_type": "code",
   "execution_count": 25,
   "id": "0cef3288-43e2-4826-a43b-b56e461efdff",
   "metadata": {},
   "outputs": [],
   "source": [
    "soup = BeautifulSoup(html, 'html.parser')  \n",
    "text_content = soup.find_all(\"tr\")"
   ]
  },
  {
   "cell_type": "code",
   "execution_count": 28,
   "id": "7dde59e2-cdd0-40f4-91db-de86ebc6ba95",
   "metadata": {},
   "outputs": [
    {
     "data": {
      "text/plain": [
       "['16  01  尧军辉  居民身份证  362502197909215050  1979-0921  男性  通信工程技术人员',\n",
       " '17  01  吴南海  居民身份证  362501196804137817  1968-04-13  男性  通信工程技术人员',\n",
       " '18  01  张赞  居民身份证  421123198703023213  1987-03-02  男性  通信工程技术人员',\n",
       " '19签单地点：核保：  01王伟  温金良全国统一客户服务电话：  居民身份证  362526197402163213武汉东湖高新新技术开发区东信路光谷创业街10（原3）栋A座95519或  1974-02-16出单员：王晓宇  男性40086-95519  通信工程技术人员    业务人员：杨婧',\n",
       " '1单元01室签单日期：2024年4月11日销售机构：东湖新技术开发区支公司重客条线业务一部销售渠道：重客  保险人盖章.e授权签字  官方网站：www.chinalife-p.com.cn  保险合商专用章（电子）']"
      ]
     },
     "execution_count": 28,
     "metadata": {},
     "output_type": "execute_result"
    }
   ],
   "source": [
    "temp_result = []\n",
    "for x in text_content:\n",
    "    le = str(x).replace(\" \",\"\").replace(\"</td><td>\", '  ').replace(\"<tr><td>\", '').replace(\"</td></tr>\", '').strip()\n",
    "    temp_result.append(re.sub(r'<[^>]*>', '', le))\n",
    "temp_result"
   ]
  },
  {
   "cell_type": "code",
   "execution_count": null,
   "id": "bff9ab32-e11a-4cd0-942d-51fdf2f888e4",
   "metadata": {},
   "outputs": [],
   "source": []
  }
 ],
 "metadata": {
  "kernelspec": {
   "display_name": "Python 3",
   "language": "python",
   "name": "python3"
  },
  "language_info": {
   "codemirror_mode": {
    "name": "ipython",
    "version": 3
   },
   "file_extension": ".py",
   "mimetype": "text/x-python",
   "name": "python",
   "nbconvert_exporter": "python",
   "pygments_lexer": "ipython3",
   "version": "3.6.2"
  }
 },
 "nbformat": 4,
 "nbformat_minor": 5
}
